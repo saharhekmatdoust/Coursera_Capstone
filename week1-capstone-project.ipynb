{
    "cells": [
        {
            "cell_type": "markdown",
            "metadata": {},
            "source": "#  1.Introduction/Business Problem"
        },
        {
            "cell_type": "markdown",
            "metadata": {},
            "source": "Toronto ,London and New York are famous tourist destinations in the world. They are diverse in many ways. All are multicultural as well as the financial hubs of their respective countries. We want to explore how much they are similar or dissimilar in aspects from a tourist point of view regarding food, accommodation, beautiful places, and many more.\nTourism industry is important for the benefits it brings and due to its role as a commercial activity that creates demand and growth for many more industries. Tourism not only contributes towards more economic activities but also generates more employment, revenues and play a significant role in development. Many countries such as Turkey, France and Italy depend heavily on tourism industry for their expanses.\n\nKnowing what makes tourists choose their travel destination is crucial information for anyone working in the travel business. Therefore, for anyone who relies on tourists and tourism, understanding the consumer behavior is essential. In this project I will focus on venues such as restaurants, hotels, parks, cafes, cinemas and so on in London, Toronto and New York and cluster their neighborhoods in order to understand the similarities and differences between these cities. Therefor the target audience would be tourists and travel agencies. Tourists can explore neighborhoods in each city and decide which city they prefer to visit or if they have been to one of these cities before and enjoyed their visit, they can select a similar city to travel next time. Travel agencies also can recommend destinations to their customers based on customers\u2019 experience and similarity and dissimilarity between different cities. \n"
        },
        {
            "cell_type": "markdown",
            "metadata": {},
            "source": "# 2.Data"
        },
        {
            "cell_type": "markdown",
            "metadata": {},
            "source": "This project will analyze venues of the city of Toronto, New York and London.\nThe data below will be used for this analysis.\n\n## 2.1  Boroughs and neighborhoods\n### 2.1.1 London:\nLondon has in total 32 boroughs. To explore, analyze and segment neighborhoods, longitude and latitude of each neighborhood and borough will be added.\nThis dataset exists for free on the web. I used this website: https://skgrange.github.io/www/data/london_sport.json\n\n### 2.1.2 New York:\nNew York has a total of 5 boroughs and 306 neighborhoods. In order to segment the neighborhoods and explore them, we will essentially need a dataset that contains the 5 boroughs and the neighborhoods that exist in each borough as well as the latitude and longitude coordinates of each neighborhood.\nLuckily, this dataset exists for free on the web. Here is the link to the dataset: https://geo.nyu.edu/catalog/nyu_2451_34572\n\n### 2.1.3 Toronto:\nFor Toronto I used the table in Wikipedia for postal code and borough of each neighborhood. (link to the Wikipedia page: https://en.wikipedia.org/wiki/List_of_postal_codes_of_Canada:_M ) and for the longitude and latitude of each neighborhood I used a csv file available in: : http://cocl.us/Geospatial_data\n\n## 2.2 Foursquare API\nin order to explore neighborhoods and cluster them we need to search for venues in each neighborhood. Foursquare API(utilized via the Request library in Python) permits to provide venues information for each neighborhood.\n\n## 2.3 Example of Dataframes\nWe need Neighborhood name,Longitude and Latitude for data frame of our cities.\n"
        },
        {
            "cell_type": "markdown",
            "metadata": {},
            "source": "let's download all the dependencies that we will need."
        },
        {
            "cell_type": "code",
            "execution_count": 1,
            "metadata": {},
            "outputs": [
                {
                    "name": "stdout",
                    "output_type": "stream",
                    "text": "Collecting lxml\n\u001b[?25l  Downloading https://files.pythonhosted.org/packages/bd/78/56a7c88a57d0d14945472535d0df9fb4bbad7d34ede658ec7961635c790e/lxml-4.6.2-cp36-cp36m-manylinux1_x86_64.whl (5.5MB)\n\u001b[K     |\u2588\u2588\u2588\u2588\u2588\u2588\u2588\u2588\u2588\u2588\u2588\u2588\u2588\u2588\u2588\u2588\u2588\u2588\u2588\u2588\u2588\u2588\u2588\u2588\u2588\u2588\u2588\u2588\u2588\u2588\u2588\u2588| 5.5MB 7.5MB/s eta 0:00:01     |\u2588\u2588\u2588\u2588\u2588\u2588\u2588\u2588\u2588\u2588\u2588\u2588\u2588\u2588\u2588\u2588\u2588\u2588\u2588\u2588\u2588\u2588\u2588\u2588\u2588\u258f      | 4.4MB 7.5MB/s eta 0:00:01\n\u001b[?25hInstalling collected packages: lxml\nSuccessfully installed lxml-4.6.2\nLibraries imported.\n"
                }
            ],
            "source": "import pandas as pd\nimport numpy as np\n!pip install lxml\nimport json # library to handle JSON files\nfrom pandas.io.json import json_normalize # tranform JSON file into a pandas dataframe\nprint('Libraries imported.')"
        },
        {
            "cell_type": "markdown",
            "metadata": {},
            "source": "## 2.3.1 London Dataframe:"
        },
        {
            "cell_type": "code",
            "execution_count": 2,
            "metadata": {},
            "outputs": [
                {
                    "data": {
                        "text/html": "<div>\n<style scoped>\n    .dataframe tbody tr th:only-of-type {\n        vertical-align: middle;\n    }\n\n    .dataframe tbody tr th {\n        vertical-align: top;\n    }\n\n    .dataframe thead th {\n        text-align: right;\n    }\n</style>\n<table border=\"1\" class=\"dataframe\">\n  <thead>\n    <tr style=\"text-align: right;\">\n      <th></th>\n      <th>Neighborhood</th>\n      <th>Latitude</th>\n      <th>Longitude</th>\n    </tr>\n  </thead>\n  <tbody>\n    <tr>\n      <th>0</th>\n      <td>Bromley0</td>\n      <td>51.442884</td>\n      <td>0.031639</td>\n    </tr>\n    <tr>\n      <th>1</th>\n      <td>Bromley1</td>\n      <td>51.440465</td>\n      <td>0.041526</td>\n    </tr>\n    <tr>\n      <th>2</th>\n      <td>Bromley2</td>\n      <td>51.423211</td>\n      <td>0.063333</td>\n    </tr>\n    <tr>\n      <th>3</th>\n      <td>Bromley3</td>\n      <td>51.431508</td>\n      <td>0.076946</td>\n    </tr>\n    <tr>\n      <th>4</th>\n      <td>Bromley4</td>\n      <td>51.413598</td>\n      <td>0.109226</td>\n    </tr>\n  </tbody>\n</table>\n</div>",
                        "text/plain": "  Neighborhood   Latitude  Longitude\n0     Bromley0  51.442884   0.031639\n1     Bromley1  51.440465   0.041526\n2     Bromley2  51.423211   0.063333\n3     Bromley3  51.431508   0.076946\n4     Bromley4  51.413598   0.109226"
                    },
                    "execution_count": 2,
                    "metadata": {},
                    "output_type": "execute_result"
                }
            ],
            "source": "with open('london_sport.json') as json_data:\n    londn_data = json.load(json_data)\ncolumn_names_london = ['Neighbprhood', 'Latitude', 'Longitude'] \n\n# instantiate the dataframe\nlondon_data = pd.DataFrame(columns=column_names_london)\nfor data in londn_data['features']:\n    #print(data)\n    for i in range(0,5):\n        neighborhood =  data['properties']['name'] \n        neighborhood=str(str(neighborhood)+str(i))\n    \n        \n        neighborhood_latlon = data['geometry']['coordinates'][0][i]\n        neighborhood_lat = neighborhood_latlon[1]\n        neighborhood_lon = neighborhood_latlon[0]\n    \n        london_data = london_data.append({'Neighborhood': neighborhood,\n                                          'Latitude': neighborhood_lat,\n                                          'Longitude': neighborhood_lon}, ignore_index=True)\nlondon_data=london_data.drop('Neighbprhood',axis=1)\ncalls=['Neighborhood','Latitude','Longitude']\nlondon_data=london_data[calls]\nlondon_data.head()"
        },
        {
            "cell_type": "markdown",
            "metadata": {},
            "source": "## 2.3.2 Toronto Dataframe"
        },
        {
            "cell_type": "code",
            "execution_count": 5,
            "metadata": {},
            "outputs": [
                {
                    "data": {
                        "text/html": "<div>\n<style scoped>\n    .dataframe tbody tr th:only-of-type {\n        vertical-align: middle;\n    }\n\n    .dataframe tbody tr th {\n        vertical-align: top;\n    }\n\n    .dataframe thead th {\n        text-align: right;\n    }\n</style>\n<table border=\"1\" class=\"dataframe\">\n  <thead>\n    <tr style=\"text-align: right;\">\n      <th></th>\n      <th>Neighborhood</th>\n      <th>Latitude</th>\n      <th>Longitude</th>\n    </tr>\n  </thead>\n  <tbody>\n    <tr>\n      <th>0</th>\n      <td>Parkwoods</td>\n      <td>43.753259</td>\n      <td>-79.329656</td>\n    </tr>\n    <tr>\n      <th>1</th>\n      <td>Victoria Village</td>\n      <td>43.725882</td>\n      <td>-79.315572</td>\n    </tr>\n    <tr>\n      <th>2</th>\n      <td>Regent Park, Harbourfront</td>\n      <td>43.654260</td>\n      <td>-79.360636</td>\n    </tr>\n    <tr>\n      <th>3</th>\n      <td>Lawrence Manor, Lawrence Heights</td>\n      <td>43.718518</td>\n      <td>-79.464763</td>\n    </tr>\n    <tr>\n      <th>4</th>\n      <td>Queen's Park, Ontario Provincial Government</td>\n      <td>43.662301</td>\n      <td>-79.389494</td>\n    </tr>\n  </tbody>\n</table>\n</div>",
                        "text/plain": "                                  Neighborhood   Latitude  Longitude\n0                                    Parkwoods  43.753259 -79.329656\n1                             Victoria Village  43.725882 -79.315572\n2                    Regent Park, Harbourfront  43.654260 -79.360636\n3             Lawrence Manor, Lawrence Heights  43.718518 -79.464763\n4  Queen's Park, Ontario Provincial Government  43.662301 -79.389494"
                    },
                    "execution_count": 5,
                    "metadata": {},
                    "output_type": "execute_result"
                }
            ],
            "source": "d=pd.read_html('https://en.wikipedia.org/wiki/List_of_postal_codes_of_Canada:_M')\ndf=d[0]\ndf.replace('Not assigned',np.nan,inplace=True)\ndf.dropna(subset=['Borough'],axis=0,inplace=True)\ndf=df.reset_index(drop=True)\ncsvfile='http://cocl.us/Geospatial_data'\ndff=pd.read_csv(csvfile)\ntoronto_data = pd.merge(df, dff, on='Postal Code')\ntoronto_data=toronto_data.rename(columns={\"Neighbourhood\": \"Neighborhood\"})\ntoronto_data[['Neighborhood','Latitude','Longitude']].head()\n"
        },
        {
            "cell_type": "markdown",
            "metadata": {},
            "source": "## 2.3.3 New York Dataframe"
        },
        {
            "cell_type": "code",
            "execution_count": 6,
            "metadata": {},
            "outputs": [
                {
                    "name": "stdout",
                    "output_type": "stream",
                    "text": "Data downloaded!\n"
                },
                {
                    "data": {
                        "text/html": "<div>\n<style scoped>\n    .dataframe tbody tr th:only-of-type {\n        vertical-align: middle;\n    }\n\n    .dataframe tbody tr th {\n        vertical-align: top;\n    }\n\n    .dataframe thead th {\n        text-align: right;\n    }\n</style>\n<table border=\"1\" class=\"dataframe\">\n  <thead>\n    <tr style=\"text-align: right;\">\n      <th></th>\n      <th>Borough</th>\n      <th>Neighborhood</th>\n      <th>Latitude</th>\n      <th>Longitude</th>\n    </tr>\n  </thead>\n  <tbody>\n    <tr>\n      <th>0</th>\n      <td>Bronx</td>\n      <td>Wakefield</td>\n      <td>40.894705</td>\n      <td>-73.847201</td>\n    </tr>\n    <tr>\n      <th>1</th>\n      <td>Bronx</td>\n      <td>Co-op City</td>\n      <td>40.874294</td>\n      <td>-73.829939</td>\n    </tr>\n    <tr>\n      <th>2</th>\n      <td>Bronx</td>\n      <td>Eastchester</td>\n      <td>40.887556</td>\n      <td>-73.827806</td>\n    </tr>\n    <tr>\n      <th>3</th>\n      <td>Bronx</td>\n      <td>Fieldston</td>\n      <td>40.895437</td>\n      <td>-73.905643</td>\n    </tr>\n    <tr>\n      <th>4</th>\n      <td>Bronx</td>\n      <td>Riverdale</td>\n      <td>40.890834</td>\n      <td>-73.912585</td>\n    </tr>\n  </tbody>\n</table>\n</div>",
                        "text/plain": "  Borough Neighborhood   Latitude  Longitude\n0   Bronx    Wakefield  40.894705 -73.847201\n1   Bronx   Co-op City  40.874294 -73.829939\n2   Bronx  Eastchester  40.887556 -73.827806\n3   Bronx    Fieldston  40.895437 -73.905643\n4   Bronx    Riverdale  40.890834 -73.912585"
                    },
                    "execution_count": 6,
                    "metadata": {},
                    "output_type": "execute_result"
                }
            ],
            "source": "!wget -q -O 'newyork_data.json' https://cf-courses-data.s3.us.cloud-object-storage.appdomain.cloud/IBMDeveloperSkillsNetwork-DS0701EN-SkillsNetwork/labs/newyork_data.json\nprint('Data downloaded!')\nwith open('newyork_data.json') as json_data:\n    newyork = json.load(json_data)\n\nneighborhoods_data = newyork['features']\ncolumn_names = ['Borough', 'Neighborhood', 'Latitude', 'Longitude'] \n\n# instantiate the dataframe\nnewyork_data = pd.DataFrame(columns=column_names)\nfor data in neighborhoods_data:\n    borough = neighborhood_name = data['properties']['borough'] \n    neighborhood_name = data['properties']['name']\n        \n    neighborhood_latlon = data['geometry']['coordinates']\n    neighborhood_lat = neighborhood_latlon[1]\n    neighborhood_lon = neighborhood_latlon[0]\n    \n    newyork_data = newyork_data.append({'Borough': borough,\n                                          'Neighborhood': neighborhood_name,\n                                          'Latitude': neighborhood_lat,\n                                          'Longitude': neighborhood_lon}, ignore_index=True)\nnewyork_data.head()"
        }
    ],
    "metadata": {
        "kernelspec": {
            "display_name": "Python 3.7",
            "language": "python",
            "name": "python3"
        },
        "language_info": {
            "codemirror_mode": {
                "name": "ipython",
                "version": 3
            },
            "file_extension": ".py",
            "mimetype": "text/x-python",
            "name": "python",
            "nbconvert_exporter": "python",
            "pygments_lexer": "ipython3",
            "version": "3.7.9"
        }
    },
    "nbformat": 4,
    "nbformat_minor": 4
}